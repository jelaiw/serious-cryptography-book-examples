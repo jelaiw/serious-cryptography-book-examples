{
 "cells": [
  {
   "cell_type": "code",
   "execution_count": 3,
   "id": "b00e497b",
   "metadata": {
    "trusted": true
   },
   "outputs": [],
   "source": [
    "from Crypto.Cipher import AES\n",
    "from Crypto.Util import Counter\n",
    "from os import urandom\n",
    "from struct import unpack"
   ]
  },
  {
   "cell_type": "code",
   "execution_count": 4,
   "id": "f7d7e48a",
   "metadata": {
    "trusted": true
   },
   "outputs": [
    {
     "name": "stdout",
     "output_type": "stream",
     "text": [
      "k = 8c3f56fb3c4cc3903810d4943b8089bc\n"
     ]
    }
   ],
   "source": [
    "k = urandom(16)\n",
    "print(f\"k = {k.hex()}\")"
   ]
  },
  {
   "cell_type": "markdown",
   "id": "1eaf6d56",
   "metadata": {},
   "source": [
    "Note the \"result is a tuple even if it contains exactly one item\" at https://docs.python.org/3/library/struct.html#struct.unpack.\n",
    "\n",
    "Also, see https://docs.python.org/3/library/struct.html#byte-order-size-and-alignment and https://docs.python.org/3/library/struct.html#byte-order-size-and-alignment for interpretation of \">Q\" format string."
   ]
  },
  {
   "cell_type": "code",
   "execution_count": 5,
   "id": "6245a384",
   "metadata": {
    "trusted": true
   },
   "outputs": [
    {
     "data": {
      "text/plain": [
       "15225898640817619949"
      ]
     },
     "execution_count": 5,
     "metadata": {},
     "output_type": "execute_result"
    }
   ],
   "source": [
    "nonce = unpack('<Q', urandom(8))[0]\n",
    "nonce"
   ]
  },
  {
   "cell_type": "markdown",
   "id": "8638efd7",
   "metadata": {},
   "source": [
    "https://www.pycryptodome.org/src/util/util#crypto-util-counter-module"
   ]
  },
  {
   "cell_type": "code",
   "execution_count": 6,
   "id": "dfcec049",
   "metadata": {
    "trusted": true
   },
   "outputs": [
    {
     "data": {
      "text/plain": [
       "{'counter_len': 16,\n",
       " 'prefix': b'',\n",
       " 'suffix': b'',\n",
       " 'initial_value': 15225898640817619949,\n",
       " 'little_endian': False}"
      ]
     },
     "execution_count": 6,
     "metadata": {},
     "output_type": "execute_result"
    }
   ],
   "source": [
    "ctr = Counter.new(128, initial_value=nonce)\n",
    "ctr"
   ]
  },
  {
   "cell_type": "markdown",
   "id": "83c7b6f7",
   "metadata": {},
   "source": [
    "https://www.pycryptodome.org/src/cipher/classic#ctr-mode"
   ]
  },
  {
   "cell_type": "code",
   "execution_count": 7,
   "id": "24731a29",
   "metadata": {
    "trusted": true
   },
   "outputs": [],
   "source": [
    "aes = AES.new(k, AES.MODE_CTR, counter=ctr)"
   ]
  },
  {
   "cell_type": "code",
   "execution_count": 8,
   "id": "41cf03a0",
   "metadata": {
    "trusted": true
   },
   "outputs": [],
   "source": [
    "p = b'\\x00\\x01\\x02\\x03'"
   ]
  },
  {
   "cell_type": "code",
   "execution_count": 9,
   "id": "ef1a8940",
   "metadata": {
    "scrolled": true,
    "trusted": true
   },
   "outputs": [
    {
     "name": "stdout",
     "output_type": "stream",
     "text": [
      "enc(00010203) = 405aac54\n"
     ]
    }
   ],
   "source": [
    "c = aes.encrypt(p)\n",
    "print(f\"enc({p.hex()}) = {c.hex()}\")"
   ]
  },
  {
   "cell_type": "code",
   "execution_count": 10,
   "id": "528c5953",
   "metadata": {
    "trusted": true
   },
   "outputs": [
    {
     "name": "stdout",
     "output_type": "stream",
     "text": [
      "enc(405aac54) = 00010203\n"
     ]
    }
   ],
   "source": [
    "ctr = Counter.new(128, initial_value=nonce)\n",
    "aes = AES.new(k, AES.MODE_CTR, counter=ctr)\n",
    "p = aes.encrypt(c)\n",
    "print(f\"enc({c.hex()}) = {p.hex()}\")"
   ]
  },
  {
   "cell_type": "code",
   "execution_count": null,
   "id": "f25f8011",
   "metadata": {},
   "outputs": [],
   "source": []
  }
 ],
 "metadata": {
  "kernelspec": {
   "display_name": "Python 3 (ipykernel)",
   "language": "python",
   "name": "python3"
  },
  "language_info": {
   "codemirror_mode": {
    "name": "ipython",
    "version": 3
   },
   "file_extension": ".py",
   "mimetype": "text/x-python",
   "name": "python",
   "nbconvert_exporter": "python",
   "pygments_lexer": "ipython3",
   "version": "3.10.6"
  }
 },
 "nbformat": 4,
 "nbformat_minor": 5
}
