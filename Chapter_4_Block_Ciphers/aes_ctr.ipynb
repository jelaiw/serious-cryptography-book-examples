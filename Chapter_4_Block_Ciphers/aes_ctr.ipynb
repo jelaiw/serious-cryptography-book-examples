{
 "cells": [
  {
   "cell_type": "code",
   "execution_count": 1,
   "id": "d74778cc",
   "metadata": {},
   "outputs": [],
   "source": [
    "from cryptography.hazmat.primitives.ciphers import Cipher, algorithms, modes\n",
    "import os\n",
    "from binascii import hexlify as hexa"
   ]
  },
  {
   "cell_type": "code",
   "execution_count": 2,
   "id": "b351527e",
   "metadata": {},
   "outputs": [
    {
     "name": "stdout",
     "output_type": "stream",
     "text": [
      "k = b'ab0544b789746e920df9c8ec8458fd34'\n"
     ]
    }
   ],
   "source": [
    "k = os.urandom(16)\n",
    "print(f\"k = {hexa(k)}\")"
   ]
  },
  {
   "cell_type": "code",
   "execution_count": 8,
   "id": "51bb4c9d",
   "metadata": {},
   "outputs": [
    {
     "name": "stdout",
     "output_type": "stream",
     "text": [
      "nonce = b'61644da9a1d89ab2908bdc432d0cee6d'\n"
     ]
    }
   ],
   "source": [
    "nonce = os.urandom(16)\n",
    "print(f\"nonce = {hexa(nonce)}\")"
   ]
  },
  {
   "cell_type": "code",
   "execution_count": 9,
   "id": "6f0bd13b",
   "metadata": {
    "scrolled": false
   },
   "outputs": [],
   "source": [
    "cipher = Cipher(algorithms.AES(k), modes.CTR(nonce))"
   ]
  },
  {
   "cell_type": "code",
   "execution_count": 11,
   "id": "186790f7",
   "metadata": {},
   "outputs": [
    {
     "name": "stdout",
     "output_type": "stream",
     "text": [
      "p = b'00010203'\n"
     ]
    }
   ],
   "source": [
    "p = b'\\x00\\x01\\x02\\x03'\n",
    "print(f\"p = {hexa(p)}\")"
   ]
  },
  {
   "cell_type": "code",
   "execution_count": 13,
   "id": "b162e8f7",
   "metadata": {},
   "outputs": [],
   "source": [
    "encryptor = cipher.encryptor()"
   ]
  },
  {
   "cell_type": "code",
   "execution_count": 14,
   "id": "2196a1fa",
   "metadata": {},
   "outputs": [],
   "source": [
    "c = encryptor.update(p) + encryptor.finalize()"
   ]
  },
  {
   "cell_type": "code",
   "execution_count": 15,
   "id": "3556ad6e",
   "metadata": {},
   "outputs": [
    {
     "name": "stdout",
     "output_type": "stream",
     "text": [
      "enc(b'00010203' = b'872a4688')\n"
     ]
    }
   ],
   "source": [
    "print(f\"enc({hexa(p)} = {hexa(c)})\")"
   ]
  },
  {
   "cell_type": "code",
   "execution_count": 16,
   "id": "787154da",
   "metadata": {},
   "outputs": [],
   "source": [
    "cipher = Cipher(algorithms.AES(k), modes.CTR(nonce))\n",
    "encryptor = cipher.encryptor()"
   ]
  },
  {
   "cell_type": "code",
   "execution_count": 17,
   "id": "2b203b40",
   "metadata": {},
   "outputs": [],
   "source": [
    "p = encryptor.update(c) + encryptor.finalize()"
   ]
  },
  {
   "cell_type": "code",
   "execution_count": 18,
   "id": "f1b377f5",
   "metadata": {},
   "outputs": [
    {
     "name": "stdout",
     "output_type": "stream",
     "text": [
      "dec(b'872a4688' = b'00010203')\n"
     ]
    }
   ],
   "source": [
    "print(f\"dec({hexa(c)} = {hexa(p)})\")"
   ]
  },
  {
   "cell_type": "code",
   "execution_count": null,
   "id": "7ff2d85e",
   "metadata": {},
   "outputs": [],
   "source": []
  }
 ],
 "metadata": {
  "kernelspec": {
   "display_name": "Python 3 (ipykernel)",
   "language": "python",
   "name": "python3"
  },
  "language_info": {
   "codemirror_mode": {
    "name": "ipython",
    "version": 3
   },
   "file_extension": ".py",
   "mimetype": "text/x-python",
   "name": "python",
   "nbconvert_exporter": "python",
   "pygments_lexer": "ipython3",
   "version": "3.9.7"
  }
 },
 "nbformat": 4,
 "nbformat_minor": 5
}
