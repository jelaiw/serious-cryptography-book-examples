{
 "cells": [
  {
   "attachments": {},
   "cell_type": "markdown",
   "metadata": {},
   "source": [
    "Listing 10-5: A fast exponentiation algorithm in ~~pseudocode~~Python."
   ]
  },
  {
   "cell_type": "code",
   "execution_count": 1,
   "metadata": {},
   "outputs": [],
   "source": [
    "def expMod(x, e, n):\n",
    "    e_i = bin(e)[2:]\n",
    "    m = len(e_i) # Bit length of the exponent.\n",
    "\n",
    "    y = x\n",
    "    for i in range(m - 2, -1, -1): # Note stop index is exclusive, need [m-2, 0], not [m-2, 0).\n",
    "        y = y * y % n\n",
    "        if e_i[i] == '1':\n",
    "            y = y * x % n\n",
    "    return y"
   ]
  },
  {
   "attachments": {},
   "cell_type": "markdown",
   "metadata": {},
   "source": [
    "$3^{65537}\\ mod\\ 36567232109354321$"
   ]
  },
  {
   "cell_type": "code",
   "execution_count": 2,
   "metadata": {},
   "outputs": [
    {
     "data": {
      "text/plain": [
       "26652909283612267"
      ]
     },
     "execution_count": 2,
     "metadata": {},
     "output_type": "execute_result"
    }
   ],
   "source": [
    "expMod(3, 65537, 36567232109354321)"
   ]
  },
  {
   "cell_type": "code",
   "execution_count": 4,
   "metadata": {},
   "outputs": [],
   "source": [
    "assert expMod(3, 65537, 36567232109354321) == pow(3, 65537, 36567232109354321) # Sanity check against pow()."
   ]
  },
  {
   "cell_type": "code",
   "execution_count": null,
   "metadata": {},
   "outputs": [],
   "source": []
  }
 ],
 "metadata": {
  "kernelspec": {
   "display_name": "Python 3",
   "language": "python",
   "name": "python3"
  },
  "language_info": {
   "codemirror_mode": {
    "name": "ipython",
    "version": 3
   },
   "file_extension": ".py",
   "mimetype": "text/x-python",
   "name": "python",
   "nbconvert_exporter": "python",
   "pygments_lexer": "ipython3",
   "version": "3.10.4"
  },
  "orig_nbformat": 4
 },
 "nbformat": 4,
 "nbformat_minor": 2
}
