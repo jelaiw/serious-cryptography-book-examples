{
 "cells": [
  {
   "cell_type": "code",
   "execution_count": 1,
   "id": "f199da7d",
   "metadata": {},
   "outputs": [],
   "source": [
    "from cryptography.hazmat.primitives.ciphers import Cipher, algorithms, modes\n",
    "from cryptography.hazmat.backends import default_backend\n",
    "from binascii import hexlify as hexa\n",
    "from os import urandom"
   ]
  },
  {
   "cell_type": "code",
   "execution_count": 2,
   "id": "5b113af6",
   "metadata": {},
   "outputs": [
    {
     "name": "stdout",
     "output_type": "stream",
     "text": [
      "k = b'd9ff0307593da74235d65e99e02c0b39'\n"
     ]
    }
   ],
   "source": [
    "# See https://docs.python.org/3/library/os.html#os.urandom.\n",
    "k = urandom(16)\n",
    "print(\"k = {}\".format(hexa(k))) # See https://docs.python.org/3/library/binascii.html#binascii.hexlify."
   ]
  },
  {
   "cell_type": "code",
   "execution_count": 3,
   "id": "f087ecac",
   "metadata": {},
   "outputs": [],
   "source": [
    "# See https://cryptography.io/en/latest/hazmat/primitives/symmetric-encryption/.\n",
    "#cipher = Cipher(algorithms.AES(k), modes.ECB(), backend = default_backend())\n",
    "# See Listing 4-1, looks like the default backend is no longer necessary.\n",
    "cipher = Cipher(algorithms.AES(k), modes.ECB())\n",
    "aes_encrypt = cipher.encryptor()"
   ]
  },
  {
   "cell_type": "code",
   "execution_count": 4,
   "id": "d9d4041c",
   "metadata": {},
   "outputs": [
    {
     "data": {
      "text/plain": [
       "str"
      ]
     },
     "execution_count": 4,
     "metadata": {},
     "output_type": "execute_result"
    }
   ],
   "source": [
    "# See https://docs.python.org/3/reference/lexical_analysis.html#string-and-bytes-literals.\n",
    "# \\xhh is char with hex value hh, so \\x00 is a char with hex value of 00.\n",
    "# Also, see https://stackoverflow.com/a/2672338.\n",
    "p = '\\x00'*16\n",
    "type(p)"
   ]
  },
  {
   "cell_type": "code",
   "execution_count": 5,
   "id": "c7d367c1",
   "metadata": {},
   "outputs": [
    {
     "data": {
      "text/plain": [
       "bytes"
      ]
     },
     "execution_count": 5,
     "metadata": {},
     "output_type": "execute_result"
    }
   ],
   "source": [
    "p = p.encode()\n",
    "type(p)"
   ]
  },
  {
   "cell_type": "code",
   "execution_count": 6,
   "id": "54b7ce3a",
   "metadata": {},
   "outputs": [
    {
     "name": "stdout",
     "output_type": "stream",
     "text": [
      "b'\\x00\\x00\\x00\\x00\\x00\\x00\\x00\\x00\\x00\\x00\\x00\\x00\\x00\\x00\\x00\\x00'\n"
     ]
    }
   ],
   "source": [
    "print(p)"
   ]
  },
  {
   "cell_type": "code",
   "execution_count": 7,
   "id": "b82c3786",
   "metadata": {},
   "outputs": [],
   "source": [
    "c = aes_encrypt.update(p) + aes_encrypt.finalize()"
   ]
  },
  {
   "cell_type": "code",
   "execution_count": 8,
   "id": "562e9eef",
   "metadata": {},
   "outputs": [
    {
     "name": "stdout",
     "output_type": "stream",
     "text": [
      "enc(b'00000000000000000000000000000000') = b'db4bd0347b4c97d17310d4deeec962cb'\n"
     ]
    }
   ],
   "source": [
    "print(\"enc({}) = {}\".format(hexa(p), hexa(c)))"
   ]
  },
  {
   "cell_type": "code",
   "execution_count": 9,
   "id": "69a0988a",
   "metadata": {},
   "outputs": [],
   "source": [
    "aes_decrypt = cipher.decryptor()"
   ]
  },
  {
   "cell_type": "code",
   "execution_count": 10,
   "id": "5f8e98e5",
   "metadata": {},
   "outputs": [],
   "source": [
    "p = aes_decrypt.update(c) + aes_decrypt.finalize()"
   ]
  },
  {
   "cell_type": "code",
   "execution_count": 11,
   "id": "b23b5cbe",
   "metadata": {},
   "outputs": [
    {
     "name": "stdout",
     "output_type": "stream",
     "text": [
      "dec(b'db4bd0347b4c97d17310d4deeec962cb') = b'00000000000000000000000000000000'\n"
     ]
    }
   ],
   "source": [
    "print(\"dec({}) = {}\".format(hexa(c), hexa(p)))"
   ]
  }
 ],
 "metadata": {
  "kernelspec": {
   "display_name": "Python 3 (ipykernel)",
   "language": "python",
   "name": "python3"
  },
  "language_info": {
   "codemirror_mode": {
    "name": "ipython",
    "version": 3
   },
   "file_extension": ".py",
   "mimetype": "text/x-python",
   "name": "python",
   "nbconvert_exporter": "python",
   "pygments_lexer": "ipython3",
   "version": "3.9.7"
  }
 },
 "nbformat": 4,
 "nbformat_minor": 5
}
