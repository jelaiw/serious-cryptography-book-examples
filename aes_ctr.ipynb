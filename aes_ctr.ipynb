{
 "cells": [
  {
   "cell_type": "code",
   "execution_count": 1,
   "id": "b00e497b",
   "metadata": {},
   "outputs": [],
   "source": [
    "from Crypto.Cipher import AES\n",
    "from Crypto.Util import Counter\n",
    "from binascii import hexlify as hexa\n",
    "from os import urandom\n",
    "from struct import unpack"
   ]
  },
  {
   "cell_type": "code",
   "execution_count": 2,
   "id": "f7d7e48a",
   "metadata": {},
   "outputs": [
    {
     "name": "stdout",
     "output_type": "stream",
     "text": [
      "k = b'8b772c548653f7e8148eb39207c6b1ea'\n"
     ]
    }
   ],
   "source": [
    "k = urandom(16)\n",
    "print(\"k = {}\".format(hexa(k)))"
   ]
  },
  {
   "cell_type": "code",
   "execution_count": 3,
   "id": "6245a384",
   "metadata": {},
   "outputs": [
    {
     "name": "stdout",
     "output_type": "stream",
     "text": [
      "6635475091698127559\n"
     ]
    }
   ],
   "source": [
    "nonce = unpack('<Q', urandom(8))[0]\n",
    "print(nonce)"
   ]
  },
  {
   "cell_type": "code",
   "execution_count": 4,
   "id": "dfcec049",
   "metadata": {},
   "outputs": [],
   "source": [
    "ctr = Counter.new(128, initial_value=nonce)"
   ]
  },
  {
   "cell_type": "code",
   "execution_count": 5,
   "id": "24731a29",
   "metadata": {},
   "outputs": [],
   "source": [
    "aes = AES.new(k, AES.MODE_CTR, counter=ctr)"
   ]
  },
  {
   "cell_type": "code",
   "execution_count": 6,
   "id": "41cf03a0",
   "metadata": {},
   "outputs": [
    {
     "data": {
      "text/plain": [
       "bytes"
      ]
     },
     "execution_count": 6,
     "metadata": {},
     "output_type": "execute_result"
    }
   ],
   "source": [
    "p = '\\x00\\x01\\x02\\x03'\n",
    "p = p.encode()\n",
    "type(p)"
   ]
  },
  {
   "cell_type": "code",
   "execution_count": 7,
   "id": "ef1a8940",
   "metadata": {
    "scrolled": true
   },
   "outputs": [
    {
     "name": "stdout",
     "output_type": "stream",
     "text": [
      "enc(b'00010203') = b'0cf6177d'\n"
     ]
    }
   ],
   "source": [
    "c = aes.encrypt(p)\n",
    "print(\"enc({}) = {}\".format(hexa(p), hexa(c)))"
   ]
  },
  {
   "cell_type": "code",
   "execution_count": 8,
   "id": "528c5953",
   "metadata": {},
   "outputs": [
    {
     "name": "stdout",
     "output_type": "stream",
     "text": [
      "enc(b'0cf6177d') = b'00010203'\n"
     ]
    }
   ],
   "source": [
    "ctr = Counter.new(128, initial_value=nonce)\n",
    "aes = AES.new(k, AES.MODE_CTR, counter=ctr)\n",
    "p = aes.encrypt(c)\n",
    "print(\"enc({}) = {}\".format(hexa(c), hexa(p)))"
   ]
  },
  {
   "cell_type": "code",
   "execution_count": null,
   "id": "f25f8011",
   "metadata": {},
   "outputs": [],
   "source": []
  }
 ],
 "metadata": {
  "kernelspec": {
   "display_name": "Python 3 (ipykernel)",
   "language": "python",
   "name": "python3"
  },
  "language_info": {
   "codemirror_mode": {
    "name": "ipython",
    "version": 3
   },
   "file_extension": ".py",
   "mimetype": "text/x-python",
   "name": "python",
   "nbconvert_exporter": "python",
   "pygments_lexer": "ipython3",
   "version": "3.9.7"
  }
 },
 "nbformat": 4,
 "nbformat_minor": 5
}
