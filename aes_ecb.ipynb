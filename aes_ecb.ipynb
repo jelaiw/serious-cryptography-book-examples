{
 "cells": [
  {
   "cell_type": "code",
   "execution_count": 1,
   "id": "132b7823",
   "metadata": {},
   "outputs": [],
   "source": [
    "from cryptography.hazmat.primitives.ciphers import Cipher, algorithms, modes\n",
    "from cryptography.hazmat.backends import default_backend\n",
    "from binascii import hexlify as hexa\n",
    "from os import urandom"
   ]
  },
  {
   "cell_type": "code",
   "execution_count": 2,
   "id": "f1676df8",
   "metadata": {},
   "outputs": [],
   "source": [
    "BLOCKLEN = 16"
   ]
  },
  {
   "cell_type": "code",
   "execution_count": 3,
   "id": "66ee616d",
   "metadata": {},
   "outputs": [],
   "source": [
    "def blocks(data):\n",
    "    split = [hexa(data[i:i+BLOCKLEN]).decode() for i in range(0, len(data), BLOCKLEN)]\n",
    "    return \" \".join(split)"
   ]
  },
  {
   "cell_type": "code",
   "execution_count": 4,
   "id": "a31d8a3b",
   "metadata": {},
   "outputs": [
    {
     "name": "stdout",
     "output_type": "stream",
     "text": [
      "k = b'ebdc8480d5e7abacb385e93cb65952e3'\n"
     ]
    }
   ],
   "source": [
    "k = urandom(16)\n",
    "print(\"k = {}\".format(hexa(k)))"
   ]
  },
  {
   "cell_type": "code",
   "execution_count": 5,
   "id": "289d202f",
   "metadata": {},
   "outputs": [],
   "source": [
    "cipher = Cipher(algorithms.AES(k), modes.ECB())\n",
    "aes_encrypt = cipher.encryptor()"
   ]
  },
  {
   "cell_type": "code",
   "execution_count": 6,
   "id": "8daab1dc",
   "metadata": {},
   "outputs": [],
   "source": [
    "p = '\\x00'*BLOCKLEN*2\n",
    "p = p.encode()"
   ]
  },
  {
   "cell_type": "code",
   "execution_count": 7,
   "id": "33b5e55c",
   "metadata": {},
   "outputs": [],
   "source": [
    "c = aes_encrypt.update(p) + aes_encrypt.finalize()"
   ]
  },
  {
   "cell_type": "code",
   "execution_count": 8,
   "id": "c5df5189",
   "metadata": {},
   "outputs": [
    {
     "name": "stdout",
     "output_type": "stream",
     "text": [
      "enc(00000000000000000000000000000000 00000000000000000000000000000000) = f8e0cc55c4a47e0e722d6242acd5bfaf f8e0cc55c4a47e0e722d6242acd5bfaf\n"
     ]
    }
   ],
   "source": [
    "print(\"enc({}) = {}\".format(blocks(p), blocks(c)))"
   ]
  }
 ],
 "metadata": {
  "kernelspec": {
   "display_name": "Python 3 (ipykernel)",
   "language": "python",
   "name": "python3"
  },
  "language_info": {
   "codemirror_mode": {
    "name": "ipython",
    "version": 3
   },
   "file_extension": ".py",
   "mimetype": "text/x-python",
   "name": "python",
   "nbconvert_exporter": "python",
   "pygments_lexer": "ipython3",
   "version": "3.9.7"
  }
 },
 "nbformat": 4,
 "nbformat_minor": 5
}
