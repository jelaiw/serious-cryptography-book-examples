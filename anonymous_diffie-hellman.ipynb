{
 "cells": [
  {
   "cell_type": "code",
   "execution_count": 1,
   "id": "d9d9002e",
   "metadata": {},
   "outputs": [],
   "source": [
    "from cryptography.hazmat.primitives.asymmetric import dh"
   ]
  },
  {
   "cell_type": "code",
   "execution_count": 2,
   "id": "12f29e8d",
   "metadata": {},
   "outputs": [],
   "source": [
    "# Generate DH parameters.\n",
    "params = dh.generate_parameters(generator=2, key_size=2048)"
   ]
  },
  {
   "cell_type": "markdown",
   "id": "fb288a50",
   "metadata": {},
   "source": [
    "## Demo an API\n",
    "Not sure if these data structures are more ergonomic or just more painful.\n",
    "\n",
    "Example is from Alice perspective."
   ]
  },
  {
   "cell_type": "code",
   "execution_count": 3,
   "id": "52592519",
   "metadata": {},
   "outputs": [],
   "source": [
    "alice_key = params.generate_private_key()"
   ]
  },
  {
   "cell_type": "markdown",
   "id": "acfadad7",
   "metadata": {},
   "source": [
    "Receive $B$ from Bob."
   ]
  },
  {
   "cell_type": "code",
   "execution_count": 4,
   "id": "3b08f0fc",
   "metadata": {},
   "outputs": [],
   "source": [
    "# In a real handshake the peer_public_key will be received from the\n",
    "# other party. For this example we'll generate another private key and\n",
    "# get a public key from that. Note that in a DH handshake both peers\n",
    "# must agree on a common set of parameters.\n",
    "bob_pub_key = params.generate_private_key().public_key()"
   ]
  },
  {
   "cell_type": "code",
   "execution_count": 5,
   "id": "2be53851",
   "metadata": {},
   "outputs": [
    {
     "data": {
      "text/plain": [
       "bytes"
      ]
     },
     "execution_count": 5,
     "metadata": {},
     "output_type": "execute_result"
    }
   ],
   "source": [
    "shared_secret = alice_key.exchange(bob_pub_key)\n",
    "type(shared_secret)"
   ]
  },
  {
   "cell_type": "markdown",
   "id": "764c35a8",
   "metadata": {},
   "source": [
    "## Confirm key agreement by hand"
   ]
  },
  {
   "cell_type": "code",
   "execution_count": 6,
   "id": "633fe529",
   "metadata": {},
   "outputs": [],
   "source": [
    "a = alice_key.private_numbers().x\n",
    "A = alice_key.public_key().public_numbers().y"
   ]
  },
  {
   "cell_type": "code",
   "execution_count": 7,
   "id": "d52275f3",
   "metadata": {},
   "outputs": [],
   "source": [
    "B = bob_pub_key.public_numbers().y"
   ]
  },
  {
   "cell_type": "code",
   "execution_count": 8,
   "id": "01116d3b",
   "metadata": {},
   "outputs": [],
   "source": [
    "p = params.parameter_numbers().p;"
   ]
  },
  {
   "cell_type": "code",
   "execution_count": 9,
   "id": "f6ad1941",
   "metadata": {},
   "outputs": [],
   "source": [
    "sk = int.from_bytes(shared_secret)"
   ]
  },
  {
   "cell_type": "markdown",
   "id": "ca688492",
   "metadata": {},
   "source": [
    "$B = g^b$ so $B^a = (g^a)^b = g^{ab}\\pmod{p}$"
   ]
  },
  {
   "cell_type": "code",
   "execution_count": 10,
   "id": "a4c5ed6f",
   "metadata": {},
   "outputs": [
    {
     "data": {
      "text/plain": [
       "True"
      ]
     },
     "execution_count": 10,
     "metadata": {},
     "output_type": "execute_result"
    }
   ],
   "source": [
    "sk == pow(B, a, p) "
   ]
  },
  {
   "cell_type": "markdown",
   "id": "798b97b1",
   "metadata": {},
   "source": [
    "## Check safe prime"
   ]
  },
  {
   "cell_type": "code",
   "execution_count": 11,
   "id": "f5340417",
   "metadata": {},
   "outputs": [],
   "source": [
    "from sympy.ntheory import isprime"
   ]
  },
  {
   "cell_type": "code",
   "execution_count": 12,
   "id": "84a5c2f5",
   "metadata": {},
   "outputs": [
    {
     "data": {
      "text/plain": [
       "True"
      ]
     },
     "execution_count": 12,
     "metadata": {},
     "output_type": "execute_result"
    }
   ],
   "source": [
    "isprime(p)"
   ]
  },
  {
   "cell_type": "markdown",
   "id": "f4c4f415",
   "metadata": {},
   "source": [
    "Prime $p$ is safe if $(p-1)/2$ is also prime."
   ]
  },
  {
   "cell_type": "code",
   "execution_count": 13,
   "id": "34c92b56",
   "metadata": {},
   "outputs": [
    {
     "data": {
      "text/plain": [
       "True"
      ]
     },
     "execution_count": 13,
     "metadata": {},
     "output_type": "execute_result"
    }
   ],
   "source": [
    "isprime((p-1)//2)"
   ]
  },
  {
   "cell_type": "code",
   "execution_count": null,
   "id": "a0eeffe3",
   "metadata": {},
   "outputs": [],
   "source": []
  }
 ],
 "metadata": {
  "kernelspec": {
   "display_name": "Python 3",
   "language": "python",
   "name": "python3"
  },
  "language_info": {
   "codemirror_mode": {
    "name": "ipython",
    "version": 3
   },
   "file_extension": ".py",
   "mimetype": "text/x-python",
   "name": "python",
   "nbconvert_exporter": "python",
   "pygments_lexer": "ipython3",
   "version": "3.12.11"
  }
 },
 "nbformat": 4,
 "nbformat_minor": 5
}
