{
 "cells": [
  {
   "cell_type": "code",
   "execution_count": 1,
   "id": "d9d9002e",
   "metadata": {},
   "outputs": [],
   "source": [
    "from cryptography.hazmat.primitives import hashes\n",
    "from cryptography.hazmat.primitives.asymmetric import dh\n",
    "from cryptography.hazmat.primitives.kdf.hkdf import HKDF"
   ]
  },
  {
   "cell_type": "code",
   "execution_count": 2,
   "id": "12f29e8d",
   "metadata": {},
   "outputs": [],
   "source": [
    "# Generate DH parameters. These can be reused.\n",
    "params = dh.generate_parameters(generator=2, key_size=2048)"
   ]
  },
  {
   "cell_type": "code",
   "execution_count": 3,
   "id": "2e037159",
   "metadata": {},
   "outputs": [],
   "source": [
    "# Generate a private key for use in the exchange.\n",
    "private_key = params.generate_private_key()"
   ]
  },
  {
   "cell_type": "code",
   "execution_count": 4,
   "id": "3b08f0fc",
   "metadata": {},
   "outputs": [],
   "source": [
    "# In a real handshake the peer_public_key will be received from the\n",
    "# other party. For this example we'll generate another private key and\n",
    "# get a public key from that. Note that in a DH handshake both peers\n",
    "# must agree on a common set of parameters.\n",
    "peer_public_key = params.generate_private_key().public_key()"
   ]
  },
  {
   "cell_type": "code",
   "execution_count": 5,
   "id": "2be53851",
   "metadata": {},
   "outputs": [],
   "source": [
    "shared_key = private_key.exchange(peer_public_key)"
   ]
  },
  {
   "cell_type": "code",
   "execution_count": 6,
   "id": "349e91fd",
   "metadata": {},
   "outputs": [
    {
     "data": {
      "text/plain": [
       "bytes"
      ]
     },
     "execution_count": 6,
     "metadata": {},
     "output_type": "execute_result"
    }
   ],
   "source": [
    "type(shared_key)"
   ]
  },
  {
   "cell_type": "code",
   "execution_count": 7,
   "id": "6736b4a7",
   "metadata": {},
   "outputs": [],
   "source": [
    "# Perform key derivation (to produce a session key).\n",
    "derived_key = HKDF(\n",
    "    algorithm=hashes.SHA256(),\n",
    "    length=32,\n",
    "    salt=None,\n",
    "    info=b'handshake data',\n",
    ").derive(shared_key)"
   ]
  },
  {
   "cell_type": "code",
   "execution_count": 8,
   "id": "633fe529",
   "metadata": {},
   "outputs": [
    {
     "data": {
      "text/plain": [
       "12147796487872572383312446325255728480724424280970810314529736639570597925104234649074739021634352347775476524153808180796685684796045631284883924122406020159042403544071284599707740758153944221233612141057515171947980802793635352554324153638721746279716061721748704986894771768644633627998990973598629306934675823905198759530058155698786438999411631991314326003670228169229862516185048879330001207260764169730366358571238966299009850029881728781404226312475184140390526205326904634453775144963837995132079629904913173582931205535310874529303798008077022711169985552318635337700798386365597600358451507694660287050755"
      ]
     },
     "execution_count": 8,
     "metadata": {},
     "output_type": "execute_result"
    }
   ],
   "source": [
    "a = private_key.private_numbers().x; a"
   ]
  },
  {
   "cell_type": "code",
   "execution_count": 9,
   "id": "695aa590",
   "metadata": {},
   "outputs": [
    {
     "data": {
      "text/plain": [
       "12399873514780288590013355888512795134617051832415194033534511323217544346741085791817906190784432265705596953774658687808734400689699786909956004641742522078325621232483734600915667798466499533521045544760413708068731908110626784585081807793434042583856779231150453422453834434538758723111331253056620063764062601584447541712941894053393146181328161025021449959879268414438292548942278405485387149156640651833766569728257251127320232063857735056976303922496247453526773873362903211724842139506855955056979546714295848345791102808192491392010399086986841892273462404076644923744238479477072502959463846427932889430929"
      ]
     },
     "execution_count": 9,
     "metadata": {},
     "output_type": "execute_result"
    }
   ],
   "source": [
    "A = private_key.public_key().public_numbers().y; A"
   ]
  },
  {
   "cell_type": "code",
   "execution_count": 10,
   "id": "d52275f3",
   "metadata": {},
   "outputs": [
    {
     "data": {
      "text/plain": [
       "19641565182050521694078369528331858882235596215714251306770362852985384390357477960512562195833992311991787974020929316388330610049006139670950424637191567165031313103438593369327262067389171177470705234716447288702595756947029190209607974999007997920463370785748508443719768071558568814470226621595259691442035099063211068988932473169491831482934867190090440939611408516826928969791957041473134771114618320698611544747920851517775425641806318278353744686605630052863311952782735355699561572780937654137703902015573865384108082786530950932254164602907338858064206791169316292846621674479824470851177867739075123564574"
      ]
     },
     "execution_count": 10,
     "metadata": {},
     "output_type": "execute_result"
    }
   ],
   "source": [
    "B = peer_public_key.public_numbers().y; B"
   ]
  },
  {
   "cell_type": "code",
   "execution_count": 11,
   "id": "46a3e0ba",
   "metadata": {},
   "outputs": [
    {
     "name": "stdout",
     "output_type": "stream",
     "text": [
      "\u001b[0;31mSignature:\u001b[0m \u001b[0mint\u001b[0m\u001b[0;34m.\u001b[0m\u001b[0mfrom_bytes\u001b[0m\u001b[0;34m(\u001b[0m\u001b[0mbytes\u001b[0m\u001b[0;34m,\u001b[0m \u001b[0mbyteorder\u001b[0m\u001b[0;34m,\u001b[0m \u001b[0;34m*\u001b[0m\u001b[0;34m,\u001b[0m \u001b[0msigned\u001b[0m\u001b[0;34m=\u001b[0m\u001b[0;32mFalse\u001b[0m\u001b[0;34m)\u001b[0m\u001b[0;34m\u001b[0m\u001b[0;34m\u001b[0m\u001b[0m\n",
      "\u001b[0;31mDocstring:\u001b[0m\n",
      "Return the integer represented by the given array of bytes.\n",
      "\n",
      "bytes\n",
      "  Holds the array of bytes to convert.  The argument must either\n",
      "  support the buffer protocol or be an iterable object producing bytes.\n",
      "  Bytes and bytearray are examples of built-in objects that support the\n",
      "  buffer protocol.\n",
      "byteorder\n",
      "  The byte order used to represent the integer.  If byteorder is 'big',\n",
      "  the most significant byte is at the beginning of the byte array.  If\n",
      "  byteorder is 'little', the most significant byte is at the end of the\n",
      "  byte array.  To request the native byte order of the host system, use\n",
      "  `sys.byteorder' as the byte order value.\n",
      "signed\n",
      "  Indicates whether two's complement is used to represent the integer.\n",
      "\u001b[0;31mType:\u001b[0m      builtin_function_or_method"
     ]
    }
   ],
   "source": [
    "?int.from_bytes"
   ]
  },
  {
   "cell_type": "code",
   "execution_count": 12,
   "id": "f6ad1941",
   "metadata": {},
   "outputs": [
    {
     "data": {
      "text/plain": [
       "21434756019881117850962187366678402306335461011353352249314439154136634345681309724542290331863440576208631930551627836125834336002747192867051495429488961165440765049607684827462140349137219597026395746451769229130201949549119119392352585903042474663172742761999623797280062549933883565881345484016645552173772909041169386269902838021099427534623438820800097573646025333443474373407852596202942246177458005781358364021318300201467951761802414794648966441699618818052059958560193044215790421996647085864204932377512268121913318251303253059999332127439952257716191395471395255990712144330635745262392344896963055183100"
      ]
     },
     "execution_count": 12,
     "metadata": {},
     "output_type": "execute_result"
    }
   ],
   "source": [
    "sk = int.from_bytes(shared_key, byteorder=\"big\"); sk"
   ]
  },
  {
   "cell_type": "code",
   "execution_count": 13,
   "id": "49188435",
   "metadata": {},
   "outputs": [
    {
     "name": "stdout",
     "output_type": "stream",
     "text": [
      "\u001b[0;31mSignature:\u001b[0m \u001b[0mpow\u001b[0m\u001b[0;34m(\u001b[0m\u001b[0mbase\u001b[0m\u001b[0;34m,\u001b[0m \u001b[0mexp\u001b[0m\u001b[0;34m,\u001b[0m \u001b[0mmod\u001b[0m\u001b[0;34m=\u001b[0m\u001b[0;32mNone\u001b[0m\u001b[0;34m)\u001b[0m\u001b[0;34m\u001b[0m\u001b[0;34m\u001b[0m\u001b[0m\n",
      "\u001b[0;31mDocstring:\u001b[0m\n",
      "Equivalent to base**exp with 2 arguments or base**exp % mod with 3 arguments\n",
      "\n",
      "Some types, such as ints, are able to use a more efficient algorithm when\n",
      "invoked using the three argument form.\n",
      "\u001b[0;31mType:\u001b[0m      builtin_function_or_method"
     ]
    }
   ],
   "source": [
    "?pow"
   ]
  },
  {
   "cell_type": "code",
   "execution_count": 14,
   "id": "01116d3b",
   "metadata": {},
   "outputs": [
    {
     "data": {
      "text/plain": [
       "21701806619751390501447286337966412664761258372425770112698490118616176104554985148207036011345879453106169032056033858155624539708733498537764801162205337378774522753105844783988557515932630692357618940298252094325265916010706016961198123547816051401983164106195159675369338953739403839645441598026359197736589954874360829614666248480167293299199117546348230080346524538814481996027681157412753780519651261826299817633775121187172402078890312505234365099454248208550003490151301354623167765795700531899691640237106713019344254104832727962592851175609385216717086399756553143301781604439397975024877319850666394525023"
      ]
     },
     "execution_count": 14,
     "metadata": {},
     "output_type": "execute_result"
    }
   ],
   "source": [
    "p = params.parameter_numbers().p; p"
   ]
  },
  {
   "cell_type": "code",
   "execution_count": 15,
   "id": "7ebfb243",
   "metadata": {},
   "outputs": [
    {
     "data": {
      "text/plain": [
       "21434756019881117850962187366678402306335461011353352249314439154136634345681309724542290331863440576208631930551627836125834336002747192867051495429488961165440765049607684827462140349137219597026395746451769229130201949549119119392352585903042474663172742761999623797280062549933883565881345484016645552173772909041169386269902838021099427534623438820800097573646025333443474373407852596202942246177458005781358364021318300201467951761802414794648966441699618818052059958560193044215790421996647085864204932377512268121913318251303253059999332127439952257716191395471395255990712144330635745262392344896963055183100"
      ]
     },
     "execution_count": 15,
     "metadata": {},
     "output_type": "execute_result"
    }
   ],
   "source": [
    "pow(B, a, mod=p)"
   ]
  },
  {
   "cell_type": "code",
   "execution_count": 16,
   "id": "a4c5ed6f",
   "metadata": {},
   "outputs": [
    {
     "data": {
      "text/plain": [
       "True"
      ]
     },
     "execution_count": 16,
     "metadata": {},
     "output_type": "execute_result"
    }
   ],
   "source": [
    "sk == pow(B, a, mod=p)"
   ]
  },
  {
   "cell_type": "code",
   "execution_count": null,
   "id": "f5340417",
   "metadata": {},
   "outputs": [],
   "source": []
  }
 ],
 "metadata": {
  "kernelspec": {
   "display_name": "Python 3 (ipykernel)",
   "language": "python",
   "name": "python3"
  },
  "language_info": {
   "codemirror_mode": {
    "name": "ipython",
    "version": 3
   },
   "file_extension": ".py",
   "mimetype": "text/x-python",
   "name": "python",
   "nbconvert_exporter": "python",
   "pygments_lexer": "ipython3",
   "version": "3.10.8"
  }
 },
 "nbformat": 4,
 "nbformat_minor": 5
}
