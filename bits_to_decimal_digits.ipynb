{
 "cells": [
  {
   "cell_type": "code",
   "execution_count": 1,
   "id": "b3617b92",
   "metadata": {},
   "outputs": [],
   "source": [
    "import os"
   ]
  },
  {
   "cell_type": "code",
   "execution_count": 2,
   "id": "b470bf34",
   "metadata": {},
   "outputs": [
    {
     "data": {
      "text/plain": [
       "82.875"
      ]
     },
     "execution_count": 2,
     "metadata": {},
     "output_type": "execute_result"
    }
   ],
   "source": [
    "# Number of bytes in 663 bits.\n",
    "663 / 8"
   ]
  },
  {
   "cell_type": "code",
   "execution_count": 3,
   "id": "52aa2c7f",
   "metadata": {},
   "outputs": [],
   "source": [
    "# 83 random bytes as an integer.\n",
    "b = os.urandom(83)"
   ]
  },
  {
   "cell_type": "code",
   "execution_count": 10,
   "id": "fb180c8c",
   "metadata": {},
   "outputs": [],
   "source": [
    "?int.from_bytes"
   ]
  },
  {
   "cell_type": "code",
   "execution_count": 4,
   "id": "23722e8b",
   "metadata": {},
   "outputs": [],
   "source": [
    "import sys"
   ]
  },
  {
   "cell_type": "code",
   "execution_count": 5,
   "id": "0d9aa22c",
   "metadata": {},
   "outputs": [
    {
     "data": {
      "text/plain": [
       "64387231973909396413205233463310172595715335170843243315688398543520728854314420485288458623407885477222570096502323273068735262922479604849890471123959754265513612141689958443824320588267583032005965"
      ]
     },
     "execution_count": 5,
     "metadata": {},
     "output_type": "execute_result"
    }
   ],
   "source": [
    "x = int.from_bytes(b, byteorder=sys.byteorder)\n",
    "x"
   ]
  },
  {
   "cell_type": "code",
   "execution_count": 6,
   "id": "e18112f0",
   "metadata": {},
   "outputs": [
    {
     "data": {
      "text/plain": [
       "200"
      ]
     },
     "execution_count": 6,
     "metadata": {},
     "output_type": "execute_result"
    }
   ],
   "source": [
    "# Count number of decimal digits, we expect this to be around 200 digits.\n",
    "len(str(x))"
   ]
  },
  {
   "cell_type": "code",
   "execution_count": null,
   "id": "1d537428",
   "metadata": {},
   "outputs": [],
   "source": []
  }
 ],
 "metadata": {
  "kernelspec": {
   "display_name": "Python 3 (ipykernel)",
   "language": "python",
   "name": "python3"
  },
  "language_info": {
   "codemirror_mode": {
    "name": "ipython",
    "version": 3
   },
   "file_extension": ".py",
   "mimetype": "text/x-python",
   "name": "python",
   "nbconvert_exporter": "python",
   "pygments_lexer": "ipython3",
   "version": "3.9.12"
  }
 },
 "nbformat": 4,
 "nbformat_minor": 5
}
