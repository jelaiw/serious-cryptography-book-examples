{
 "cells": [
  {
   "cell_type": "markdown",
   "id": "748f357b",
   "metadata": {},
   "source": [
    "See \"The Factoring Problem\" section in chapter 9 (page 225)."
   ]
  },
  {
   "cell_type": "code",
   "execution_count": 1,
   "id": "2e2f9229",
   "metadata": {},
   "outputs": [
    {
     "data": {
      "text/plain": [
       "123456"
      ]
     },
     "execution_count": 1,
     "metadata": {},
     "output_type": "execute_result"
    }
   ],
   "source": [
    "2**6 * 3 * 643"
   ]
  },
  {
   "cell_type": "code",
   "execution_count": 2,
   "id": "c7e3536a",
   "metadata": {},
   "outputs": [
    {
     "data": {
      "text/plain": [
       "1234567"
      ]
     },
     "execution_count": 2,
     "metadata": {},
     "output_type": "execute_result"
    }
   ],
   "source": [
    "127 * 9721"
   ]
  },
  {
   "cell_type": "markdown",
   "id": "5837e3b0",
   "metadata": {},
   "source": [
    "See https://stackoverflow.com/a/27946768 for further detail on below simple primality test."
   ]
  },
  {
   "cell_type": "code",
   "execution_count": 3,
   "id": "824a1ce2",
   "metadata": {},
   "outputs": [],
   "source": [
    "def is_prime(n):\n",
    "    if n < 2:\n",
    "        return False\n",
    "    \n",
    "    for divisor in range(2, int(n ** 0.5) + 1):\n",
    "        if n % divisor == 0:\n",
    "            return False\n",
    "    \n",
    "    return True"
   ]
  },
  {
   "cell_type": "code",
   "execution_count": 4,
   "id": "fb0946cd",
   "metadata": {},
   "outputs": [
    {
     "data": {
      "text/plain": [
       "True"
      ]
     },
     "execution_count": 4,
     "metadata": {},
     "output_type": "execute_result"
    }
   ],
   "source": [
    "is_prime(643)"
   ]
  },
  {
   "cell_type": "code",
   "execution_count": 5,
   "id": "f6f68761",
   "metadata": {},
   "outputs": [
    {
     "data": {
      "text/plain": [
       "True"
      ]
     },
     "execution_count": 5,
     "metadata": {},
     "output_type": "execute_result"
    }
   ],
   "source": [
    "is_prime(127)"
   ]
  },
  {
   "cell_type": "code",
   "execution_count": 6,
   "id": "494e916d",
   "metadata": {},
   "outputs": [
    {
     "data": {
      "text/plain": [
       "True"
      ]
     },
     "execution_count": 6,
     "metadata": {},
     "output_type": "execute_result"
    }
   ],
   "source": [
    "is_prime(9721)"
   ]
  },
  {
   "cell_type": "code",
   "execution_count": null,
   "id": "d297505a",
   "metadata": {},
   "outputs": [],
   "source": []
  }
 ],
 "metadata": {
  "kernelspec": {
   "display_name": "Python 3 (ipykernel)",
   "language": "python",
   "name": "python3"
  },
  "language_info": {
   "codemirror_mode": {
    "name": "ipython",
    "version": 3
   },
   "file_extension": ".py",
   "mimetype": "text/x-python",
   "name": "python",
   "nbconvert_exporter": "python",
   "pygments_lexer": "ipython3",
   "version": "3.10.8"
  }
 },
 "nbformat": 4,
 "nbformat_minor": 5
}
