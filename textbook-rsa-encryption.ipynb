{
 "cells": [
  {
   "cell_type": "markdown",
   "id": "1f3e1fde",
   "metadata": {},
   "source": [
    "See chapter 10 in section titled \"Encrypting with RSA\"."
   ]
  },
  {
   "cell_type": "code",
   "execution_count": 1,
   "id": "c2ed18c7",
   "metadata": {},
   "outputs": [],
   "source": [
    "message = b'RSA'"
   ]
  },
  {
   "cell_type": "code",
   "execution_count": 2,
   "id": "e3211b0c",
   "metadata": {},
   "outputs": [],
   "source": [
    "from binascii import hexlify as hexa"
   ]
  },
  {
   "cell_type": "code",
   "execution_count": 3,
   "id": "da4d00e0",
   "metadata": {},
   "outputs": [
    {
     "name": "stdout",
     "output_type": "stream",
     "text": [
      "b'525341'\n"
     ]
    }
   ],
   "source": [
    "# See https://www.asciitable.com/ for ASCII hex encoding.\n",
    "print(hexa(message))"
   ]
  },
  {
   "cell_type": "code",
   "execution_count": null,
   "id": "2ad24aff",
   "metadata": {},
   "outputs": [],
   "source": [
    "?int.from_bytes"
   ]
  },
  {
   "cell_type": "code",
   "execution_count": 4,
   "id": "fb71853a",
   "metadata": {},
   "outputs": [],
   "source": [
    "num = int.from_bytes(message, byteorder=\"big\")"
   ]
  },
  {
   "cell_type": "code",
   "execution_count": 5,
   "id": "870f0516",
   "metadata": {},
   "outputs": [
    {
     "name": "stdout",
     "output_type": "stream",
     "text": [
      "5395265\n"
     ]
    }
   ],
   "source": [
    "print(num)"
   ]
  },
  {
   "cell_type": "code",
   "execution_count": null,
   "id": "240ff0b8",
   "metadata": {},
   "outputs": [],
   "source": []
  }
 ],
 "metadata": {
  "kernelspec": {
   "display_name": "Python 3 (ipykernel)",
   "language": "python",
   "name": "python3"
  },
  "language_info": {
   "codemirror_mode": {
    "name": "ipython",
    "version": 3
   },
   "file_extension": ".py",
   "mimetype": "text/x-python",
   "name": "python",
   "nbconvert_exporter": "python",
   "pygments_lexer": "ipython3",
   "version": "3.9.12"
  }
 },
 "nbformat": 4,
 "nbformat_minor": 5
}
